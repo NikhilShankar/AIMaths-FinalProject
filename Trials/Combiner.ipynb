{
 "cells": [
  {
   "cell_type": "code",
   "execution_count": 1,
   "metadata": {},
   "outputs": [
    {
     "name": "stdout",
     "output_type": "stream",
     "text": [
      "Notebooks merged successfully into 'NikhilShankarChirakkalSivasankaran_9026254_2_Final_Part_B.ipynb'\n"
     ]
    }
   ],
   "source": [
    "import nbformat\n",
    "\n",
    "def merge_notebooks(notebook1_path, notebook2_path, output_path):\n",
    "    try:\n",
    "        # Read notebooks\n",
    "        with open(notebook1_path, \"r\", encoding='utf-8') as f1, \\\n",
    "             open(notebook2_path, \"r\", encoding='utf-8') as f2:\n",
    "            nb1 = nbformat.read(f1, as_version=4)  # Consistent version\n",
    "            nb2 = nbformat.read(f2, as_version=4)\n",
    "\n",
    "        # Combine cells\n",
    "        nb1.cells.extend(nb2.cells)\n",
    "\n",
    "        # Save merged notebook\n",
    "        with open(output_path, \"w\", encoding='utf-8') as f_out:\n",
    "            nbformat.write(nb1, f_out)\n",
    "\n",
    "        print(f\"Notebooks merged successfully into '{output_path}'\")\n",
    "    \n",
    "    except Exception as e:\n",
    "        print(f\"Error merging notebooks: {e}\")\n",
    "\n",
    "# Usage\n",
    "merge_notebooks(\n",
    "    \"FinalExam-PartB.ipynb\", \n",
    "    \"FinalExam-PartB-B.ipynb\", \n",
    "    \"NikhilShankarChirakkalSivasankaran_9026254_2_Final_Part_B.ipynb\"\n",
    ")"
   ]
  }
 ],
 "metadata": {
  "kernelspec": {
   "display_name": "tensorflow_cpu",
   "language": "python",
   "name": "python3"
  },
  "language_info": {
   "codemirror_mode": {
    "name": "ipython",
    "version": 3
   },
   "file_extension": ".py",
   "mimetype": "text/x-python",
   "name": "python",
   "nbconvert_exporter": "python",
   "pygments_lexer": "ipython3",
   "version": "3.11.0"
  }
 },
 "nbformat": 4,
 "nbformat_minor": 2
}
